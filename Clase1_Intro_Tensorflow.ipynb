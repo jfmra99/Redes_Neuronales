{
  "nbformat": 4,
  "nbformat_minor": 0,
  "metadata": {
    "colab": {
      "name": "Clase1:Intro Tensorflow.ipynb",
      "provenance": [],
      "collapsed_sections": [],
      "include_colab_link": true
    },
    "kernelspec": {
      "name": "python3",
      "display_name": "Python 3"
    }
  },
  "cells": [
    {
      "cell_type": "markdown",
      "metadata": {
        "id": "view-in-github",
        "colab_type": "text"
      },
      "source": [
        "<a href=\"https://colab.research.google.com/github/jfmra99/Redes_Neuronales/blob/master/Clase1_Intro_Tensorflow.ipynb\" target=\"_parent\"><img src=\"https://colab.research.google.com/assets/colab-badge.svg\" alt=\"Open In Colab\"/></a>"
      ]
    },
    {
      "cell_type": "code",
      "metadata": {
        "id": "uG2WOlbyfVQ4",
        "colab_type": "code",
        "colab": {}
      },
      "source": [
        "##\n",
        "## Se importan las librerías\n",
        "##\n",
        "import tensorflow as tf\n",
        "import numpy as np"
      ],
      "execution_count": 0,
      "outputs": []
    },
    {
      "cell_type": "code",
      "metadata": {
        "id": "BnPoU6d3ffjn",
        "colab_type": "code",
        "colab": {}
      },
      "source": [
        "g1 = tf.Graph()\n",
        "g2 = tf.Graph()\n",
        "\n",
        "with g1.as_default():\n",
        "    a = tf.constant(1)\n",
        "    b = tf.constant(2)\n",
        "    c = tf.add(a, b)\n",
        "\n",
        "with g2.as_default():\n",
        "    e = tf.constant(3)\n",
        "    f = tf.constant(4)\n",
        "    g = tf.multiply(e, f)"
      ],
      "execution_count": 0,
      "outputs": []
    },
    {
      "cell_type": "code",
      "metadata": {
        "id": "A6MffvfzfsqQ",
        "colab_type": "code",
        "colab": {}
      },
      "source": [
        "node1 = tf.constant(5.0)           # Tensor []\n",
        "node2 = tf.constant(2.0)           # Tensor []\n",
        "node3 = tf.constant(3.0)           # Tensor []\n",
        "node4 = tf.multiply(node1, node2)  # Operación\n",
        "node5 = tf.add(node3, node2)       # Operación\n",
        "node6 = tf.subtract(node4, node5)  # Operación"
      ],
      "execution_count": 0,
      "outputs": []
    },
    {
      "cell_type": "code",
      "metadata": {
        "id": "6hbX_mWxflSB",
        "colab_type": "code",
        "colab": {
          "base_uri": "https://localhost:8080/",
          "height": 34
        },
        "outputId": "e9d76f8a-8539-451e-86b9-e23398964452"
      },
      "source": [
        "##\n",
        "##  Abre la sesión y luego la cierra\n",
        "##\n",
        "with tf.Session() as sess:\n",
        "    outs = sess.run(node6)          ## realiza la evaluación\n",
        "    print(f\"outs = {outs}\")## imprime el resultado de la evaluación\n",
        "    #print(\"outs = {}\".format(outs))"
      ],
      "execution_count": 9,
      "outputs": [
        {
          "output_type": "stream",
          "text": [
            "outs = 5.0\n"
          ],
          "name": "stdout"
        }
      ]
    },
    {
      "cell_type": "code",
      "metadata": {
        "id": "5I4HaqO9gYvp",
        "colab_type": "code",
        "colab": {
          "base_uri": "https://localhost:8080/",
          "height": 34
        },
        "outputId": "b7ae34d2-528d-4697-bd46-9485df71e85d"
      },
      "source": [
        "##\n",
        "## run() admite una lista de nodos a evaluar\n",
        "##\n",
        "with tf.Session() as sess:\n",
        "    outs = sess.run([node6, node4, node5])\n",
        "    print(\"outs = {}\".format(outs))"
      ],
      "execution_count": 10,
      "outputs": [
        {
          "output_type": "stream",
          "text": [
            "outs = [5.0, 10.0, 5.0]\n"
          ],
          "name": "stdout"
        }
      ]
    },
    {
      "cell_type": "markdown",
      "metadata": {
        "id": "XT6nGirygira",
        "colab_type": "text"
      },
      "source": [
        "Para pasar una gráfica en particular se usa el parámetro graph."
      ]
    },
    {
      "cell_type": "code",
      "metadata": {
        "id": "D7AZdmnegj3F",
        "colab_type": "code",
        "colab": {
          "base_uri": "https://localhost:8080/",
          "height": 34
        },
        "outputId": "11ca06a9-a28e-4f35-b3f7-5bdec7916957"
      },
      "source": [
        "\n",
        "with tf.Session(graph = g1) as sess:\n",
        "    print(sess.run(c))"
      ],
      "execution_count": 11,
      "outputs": [
        {
          "output_type": "stream",
          "text": [
            "3\n"
          ],
          "name": "stdout"
        }
      ]
    },
    {
      "cell_type": "markdown",
      "metadata": {
        "id": "8qNTFsVmj6aM",
        "colab_type": "text"
      },
      "source": [
        "### Actividad.— Construya a mano el gráfico de flujo de datos de la expresión"
      ]
    },
    {
      "cell_type": "code",
      "metadata": {
        "id": "faYD5S6WkBAH",
        "colab_type": "code",
        "colab": {
          "base_uri": "https://localhost:8080/",
          "height": 34
        },
        "outputId": "ba391745-a1f6-4297-f23e-60248e504c12"
      },
      "source": [
        "-0.9*2**3+2.5*(2**2)-3.8*2-4.3"
      ],
      "execution_count": 14,
      "outputs": [
        {
          "output_type": "execute_result",
          "data": {
            "text/plain": [
              "-9.1"
            ]
          },
          "metadata": {
            "tags": []
          },
          "execution_count": 14
        }
      ]
    },
    {
      "cell_type": "code",
      "metadata": {
        "id": "Ftd_-DjdkGX2",
        "colab_type": "code",
        "colab": {}
      },
      "source": [
        "node1 = tf.constant(2.0)           # Tensor []\n",
        "node2 = tf.constant(3.0)\n",
        "node3 = tf.pow(node1, node2)\n",
        "node4 = tf.constant(-0.9) \n",
        "node5 = tf.multiply(node3, node4)\n",
        "\n",
        "node6 = tf.pow(node1, node1)\n",
        "node7 = tf.constant(2.5)\n",
        "node8 = tf.multiply(node6, node7)\n",
        "\n",
        "node9 = tf.add(node5, node8)\n",
        "\n",
        "node10 = tf.constant(3.8)\n",
        "node11 = tf.multiply(node10, node1)\n",
        "\n",
        "node12 = tf.subtract(node9 ,node11)\n",
        "\n",
        "node13 = tf.constant(4.3)\n",
        "\n",
        "node14 = tf.subtract(node12 ,node13)"
      ],
      "execution_count": 0,
      "outputs": []
    },
    {
      "cell_type": "code",
      "metadata": {
        "id": "vgeQ29n0koZj",
        "colab_type": "code",
        "colab": {
          "base_uri": "https://localhost:8080/",
          "height": 34
        },
        "outputId": "9a97438e-b4b0-4b31-bbc1-5c82f0a42a3a"
      },
      "source": [
        "with tf.Session() as sess:\n",
        "    outs = sess.run(node14)          ## realiza la evaluación\n",
        "    print(\"outs = {}\".format(outs)) ## imprime el resultado de la evaluación"
      ],
      "execution_count": 26,
      "outputs": [
        {
          "output_type": "stream",
          "text": [
            "outs = -9.100000381469727\n"
          ],
          "name": "stdout"
        }
      ]
    },
    {
      "cell_type": "code",
      "metadata": {
        "id": "7dVGoUN9nGJk",
        "colab_type": "code",
        "colab": {}
      },
      "source": [
        ""
      ],
      "execution_count": 0,
      "outputs": []
    },
    {
      "cell_type": "markdown",
      "metadata": {
        "id": "JiqJbff_n_RJ",
        "colab_type": "text"
      },
      "source": [
        "## Operaciones Matriciales"
      ]
    },
    {
      "cell_type": "code",
      "metadata": {
        "id": "hJjAD1QfoB5J",
        "colab_type": "code",
        "colab": {}
      },
      "source": [
        "\n",
        "## suma de las columnas de un tensor\n",
        "with tf.Session() as sess:\n",
        "    print(tf.reduce_sum(m, reduction_indices = 0).eval()) ## El indice 0 se refiere a columnas, el 1 a filas."
      ],
      "execution_count": 0,
      "outputs": []
    },
    {
      "cell_type": "markdown",
      "metadata": {
        "id": "5EyfysM1o-1V",
        "colab_type": "text"
      },
      "source": [
        "- tf.reduce_sum  --> Suma matricialmente\n",
        "- tf.reduce_prod --> Realiza un producto entre las dimensiones del tensor (producto matricial tipico de R)\n",
        "- tf.reduce_min --> Devuelve el mínimo entre las dimensiones del tensor (minimo de R usando apply)\n",
        "- tf.reduce_max --> Devuelve el máximo entre las dimensiones.\n",
        "- tf.reduce_mean --> Media entre dimensiones\n",
        "- tf.reduce_all --> computa la evaluación logica **y**\n",
        "- tf.reduce_any --> computa la evaluación logica **o**\n",
        "- tf.reduce_logsumexp --> computa log(sum(exp())) sobre la dimensión.\n",
        "- tf.count_nonzero --> cuenta cuantos elementos no son cero dentro de las dimensiones.\n",
        "- tf.accumulate_n --> Returns the element-wise sum of a list of tensors.\n",
        "a = tf.constant([[1, 2], [3, 4]])\n",
        "b = tf.constant([[5, 0], [0, 6]])\n",
        "tf.math.accumulate_n([a, b, a])  # [[7, 4], [6, 14]]\n",
        "\n",
        " Explicitly pass shape and type: \n",
        " tf.math.accumulate_n([a, b, a], shape=[2, 2], tensor_dtype=tf.int32)\n",
        "                                                               # [[7,  4],\n",
        "                                                               #  [6, 14]]\n",
        "- tf.einsum --> A generalized contraction between tensors of arbitrary dimension.\n",
        " Matrix multiplication\n",
        ">>> einsum('ij,jk->ik', m0, m1)  # output[i,k] = sum_j m0[i,j] * m1[j, k]"
      ]
    },
    {
      "cell_type": "markdown",
      "metadata": {
        "id": "ctf8GVKQs7eL",
        "colab_type": "text"
      },
      "source": [
        "### Aplicar funciones Lambda usando TF:"
      ]
    },
    {
      "cell_type": "code",
      "metadata": {
        "id": "aM2tXkZWszUI",
        "colab_type": "code",
        "colab": {
          "base_uri": "https://localhost:8080/",
          "height": 34
        },
        "outputId": "71c3a355-74e4-4b92-e481-f313f36349a9"
      },
      "source": [
        "\n",
        "## Aplica una función a cada elemento de un tensor\n",
        "## La función f() se aplica al argumento m.\n",
        "f = lambda m : tf.cond(tf.greater_equal(m, 0.0),\n",
        "                       true_fn  = lambda :  tf.constant(1.),\n",
        "                       false_fn = lambda : tf.constant(0.0))\n",
        "## define el tensor x\n",
        "x = tf.constant([10.0, -1.0])\n",
        "\n",
        "## aplica la función f a cada elemento de x\n",
        "y = tf.map_fn(f, x)\n",
        "\n",
        "with tf.Session() as sess:\n",
        "    print(sess.run(y))"
      ],
      "execution_count": 29,
      "outputs": [
        {
          "output_type": "stream",
          "text": [
            "[1. 0.]\n"
          ],
          "name": "stdout"
        }
      ]
    },
    {
      "cell_type": "markdown",
      "metadata": {
        "id": "FSnRpcVStBf-",
        "colab_type": "text"
      },
      "source": [
        "### Actividad creación de matrices"
      ]
    },
    {
      "cell_type": "code",
      "metadata": {
        "id": "LG17OwBLu65d",
        "colab_type": "code",
        "colab": {}
      },
      "source": [
        "## Definición de X usando tensor \n",
        "x = tf.constant([[1.0, 2.1], [1.9, 3.2], [3.0, 3.9], [4.2, 5.2]]) \n",
        "y = tf.constant([[3.1], [4.0], [5.1], [6.1]]) \n",
        "\n",
        "xp = tf.transpose(x)\n",
        "\n",
        "z = tf.matrix_inverse(tf.linalg.matmul(xp, x))\n",
        "z = tf.linalg.matmul(z, xp)\n",
        "z = tf.linalg.matmul(z, y)\n"
      ],
      "execution_count": 0,
      "outputs": []
    },
    {
      "cell_type": "code",
      "metadata": {
        "id": "10ajatHlvzMX",
        "colab_type": "code",
        "colab": {
          "base_uri": "https://localhost:8080/",
          "height": 51
        },
        "outputId": "254b4905-a6a1-4c20-a689-1fab8266b9c2"
      },
      "source": [
        "with tf.Session() as sess:  print(z.eval()) "
      ],
      "execution_count": 48,
      "outputs": [
        {
          "output_type": "stream",
          "text": [
            "[[-0.575095 ]\n",
            " [ 1.6680703]]\n"
          ],
          "name": "stdout"
        }
      ]
    },
    {
      "cell_type": "code",
      "metadata": {
        "id": "wCeLxVXCxgt3",
        "colab_type": "code",
        "colab": {
          "base_uri": "https://localhost:8080/",
          "height": 153
        },
        "outputId": "7ea2f5bf-14c1-408c-845a-2f9ee385940b"
      },
      "source": [
        "p = tf.linalg.matmul(x, z)\n",
        "with tf.Session() as sess:  print(p.eval())\n",
        "\n",
        "#tf.multiply(i, tf.power(a, 3))\n",
        "p1 = tf.pow(p, 3)\n",
        "with tf.Session() as sess:  print(p1.eval())"
      ],
      "execution_count": 54,
      "outputs": [
        {
          "output_type": "stream",
          "text": [
            "[[2.9278524]\n",
            " [4.245145 ]\n",
            " [4.7801895]\n",
            " [6.2585664]]\n",
            "[[ 25.098486]\n",
            " [ 76.50284 ]\n",
            " [109.22834 ]\n",
            " [245.14587 ]]\n"
          ],
          "name": "stdout"
        }
      ]
    },
    {
      "cell_type": "markdown",
      "metadata": {
        "id": "CCe5STgQ1G4M",
        "colab_type": "text"
      },
      "source": [
        "## Place Holders"
      ]
    },
    {
      "cell_type": "code",
      "metadata": {
        "id": "oxcSt0Z31I5M",
        "colab_type": "code",
        "colab": {
          "base_uri": "https://localhost:8080/",
          "height": 68
        },
        "outputId": "b9ed0421-eefa-4ea2-d981-28a6deba347d"
      },
      "source": [
        "\n",
        "## define a, b y c como placeholders\n",
        "a = tf.placeholder(tf.float32)\n",
        "b = tf.placeholder(tf.float32)\n",
        "c = tf.placeholder(tf.float32)\n",
        "\n",
        "## define los nodos de cómputo\n",
        "node4 = tf.multiply(a, b)\n",
        "node5 = tf.add(c, b)\n",
        "node6 = tf.subtract(node4, node5)\n",
        "\n",
        "## evalua la operación para diferentes valores de a, b y c.\n",
        "with tf.Session() as sess:\n",
        "    print(sess.run(node6, feed_dict={a: 5, b:3, c:2}))\n",
        "    print(sess.run(node6, feed_dict={a: 4, b:2, c:3}))\n",
        "    print(sess.run(node6, feed_dict={a: 4, b:3, c:1}))"
      ],
      "execution_count": 50,
      "outputs": [
        {
          "output_type": "stream",
          "text": [
            "10.0\n",
            "3.0\n",
            "8.0\n"
          ],
          "name": "stdout"
        }
      ]
    },
    {
      "cell_type": "markdown",
      "metadata": {
        "id": "fojjBxod1NQO",
        "colab_type": "text"
      },
      "source": [
        "### Actividad\n",
        "\n",
        "definr una función (placeholder)"
      ]
    },
    {
      "cell_type": "code",
      "metadata": {
        "id": "kcZZ2cME2aQy",
        "colab_type": "code",
        "colab": {
          "base_uri": "https://localhost:8080/",
          "height": 34
        },
        "outputId": "a9b407af-9a8b-4f21-bf10-86b5a81356a0"
      },
      "source": [
        "## define a, b y c como placeholders\n",
        "x = tf.placeholder(tf.float32)\n",
        "\n",
        "i = tf.constant(0.3)\n",
        "j = tf.constant(-0.6)\n",
        "k = tf.constant(-0.1)\n",
        "l = tf.constant(0.5)\n",
        "\n",
        "## define los nodos de cómputo\n",
        "node1 = tf.multiply(i, tf.pow(x, 3))\n",
        "node2 = tf.multiply(j, tf.pow(x, 2))\n",
        "node3 = tf.multiply(k, x)\n",
        "node4 = (node1+ node2+ node3 +l)\n",
        "\n",
        "## evalua la operación para diferentes valores de a, b y c.\n",
        "with tf.Session() as sess:\n",
        "    print(sess.run(node4, feed_dict={x: np.array([1.0,4.2,3.1,6.3])}))"
      ],
      "execution_count": 64,
      "outputs": [
        {
          "output_type": "stream",
          "text": [
            "[ 0.09999999 11.7224      3.3613     51.07011   ]\n"
          ],
          "name": "stdout"
        }
      ]
    },
    {
      "cell_type": "code",
      "metadata": {
        "id": "S1ZCUUSP2JUe",
        "colab_type": "code",
        "colab": {}
      },
      "source": [
        "\n",
        "\n",
        "\n",
        "        print(sess.run(node1))"
      ],
      "execution_count": 0,
      "outputs": []
    },
    {
      "cell_type": "markdown",
      "metadata": {
        "id": "rGCO4ZVX50H8",
        "colab_type": "text"
      },
      "source": [
        "### Actividad Fibonacci"
      ]
    },
    {
      "cell_type": "code",
      "metadata": {
        "id": "m1LA60FF52GW",
        "colab_type": "code",
        "colab": {
          "base_uri": "https://localhost:8080/",
          "height": 187
        },
        "outputId": "beaa802a-2d22-4841-f7c0-f079b36446d0"
      },
      "source": [
        "## crea la variable y la inicializa a cero\n",
        "n = tf.Variable(1)\n",
        "n_old = tf.Variable(0)\n",
        "\n",
        "## arbol sintactico que representa las operaciones\n",
        "node0 = tf.add(n, n_old)\n",
        "node1 = tf.assign(n, node0)\n",
        "node2 = tf.assign(n_old, n)\n",
        "\n",
        "## evalua\n",
        "with tf.Session() as sess:\n",
        "\n",
        "    ## las variables deben ser inicializadas antes\n",
        "    ## de usarse\n",
        "    sess.run(tf.global_variables_initializer())\n",
        "\n",
        "    for i in range(10):\n",
        "      print(sess.run(node1))\n",
        "      sess.run(node2)\n",
        "      \n",
        "\n",
        "        ## el valor de las variables se retiene entre\n",
        "        ## las llamadas a run()"
      ],
      "execution_count": 68,
      "outputs": [
        {
          "output_type": "stream",
          "text": [
            "2\n",
            "4\n",
            "8\n",
            "16\n",
            "32\n",
            "64\n",
            "128\n",
            "256\n",
            "512\n",
            "1024\n"
          ],
          "name": "stdout"
        }
      ]
    },
    {
      "cell_type": "code",
      "metadata": {
        "id": "usnhSvYd6tDM",
        "colab_type": "code",
        "colab": {}
      },
      "source": [
        ""
      ],
      "execution_count": 0,
      "outputs": []
    }
  ]
}