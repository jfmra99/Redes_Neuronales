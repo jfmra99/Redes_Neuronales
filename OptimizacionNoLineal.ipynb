{
  "nbformat": 4,
  "nbformat_minor": 0,
  "metadata": {
    "colab": {
      "name": "OptimizacionNoLineal.ipynb",
      "provenance": [],
      "authorship_tag": "ABX9TyO6onNHpHT1ChflUUi79kG9",
      "include_colab_link": true
    },
    "kernelspec": {
      "name": "python3",
      "display_name": "Python 3"
    }
  },
  "cells": [
    {
      "cell_type": "markdown",
      "metadata": {
        "id": "view-in-github",
        "colab_type": "text"
      },
      "source": [
        "<a href=\"https://colab.research.google.com/github/jfmra99/Redes_Neuronales/blob/master/OptimizacionNoLineal.ipynb\" target=\"_parent\"><img src=\"https://colab.research.google.com/assets/colab-badge.svg\" alt=\"Open In Colab\"/></a>"
      ]
    },
    {
      "cell_type": "code",
      "metadata": {
        "id": "v3eDntM9fAQd",
        "colab_type": "code",
        "colab": {}
      },
      "source": [
        ""
      ],
      "execution_count": 0,
      "outputs": []
    },
    {
      "cell_type": "markdown",
      "metadata": {
        "id": "ctr0qKJ3fBoB",
        "colab_type": "text"
      },
      "source": [
        "## Optimización de funciones no lineales\n"
      ]
    },
    {
      "cell_type": "code",
      "metadata": {
        "id": "IcWmCjcFfMAv",
        "colab_type": "code",
        "colab": {}
      },
      "source": [
        ""
      ],
      "execution_count": 0,
      "outputs": []
    },
    {
      "cell_type": "markdown",
      "metadata": {
        "id": "mmrNnjLAlCn4",
        "colab_type": "text"
      },
      "source": [
        "## graficos\n",
        "\n",
        "$R(x) = |x-a| + (a-x)$ \n"
      ]
    },
    {
      "cell_type": "code",
      "metadata": {
        "id": "aqz95SvllSTd",
        "colab_type": "code",
        "colab": {}
      },
      "source": [
        "def f(x, y):\n",
        "    return 36 - (x**2 - 1.8)**2 + (y + 0.9)**2"
      ],
      "execution_count": 0,
      "outputs": []
    },
    {
      "cell_type": "code",
      "metadata": {
        "id": "ZdZ2AyCBqpjX",
        "colab_type": "code",
        "colab": {}
      },
      "source": [
        "import math\n",
        "import numpy as np\n",
        "import matplotlib.pyplot as plt\n",
        "\n",
        "def F(x, y, delta):\n",
        "    fxy = -f(x, y) ## función original\n",
        "    R1 = (abs(math.sin(math.pi * x)))**4 + abs((math.sin(math.pi * y)))**4 ## Restriccion de enteros\n",
        "    ## restriccion -4<x<5\n",
        "    R21 = abs(x + 4) + (-4 - x) \n",
        "    R22 = abs(y + 4) + (-4 - y)\n",
        "    R23 = abs(x - 5) - (5 - x)\n",
        "    R24 = abs(y - 5) - (5 - y)\n",
        "    return fxy + delta * (R1 + R21 + R22 + R23 + R24)"
      ],
      "execution_count": 0,
      "outputs": []
    },
    {
      "cell_type": "code",
      "metadata": {
        "id": "YzKzYI4_t7de",
        "colab_type": "code",
        "colab": {
          "base_uri": "https://localhost:8080/",
          "height": 283
        },
        "outputId": "b49f786e-a610-4be6-d2d5-744d3345c4c3"
      },
      "source": [
        "x_opt = None\n",
        "y_opt = None\n",
        "F_opt = None\n",
        "f_opt = None\n",
        "history_F = []\n",
        "history_F_opt = []\n",
        "\n",
        "for n in range(100):\n",
        "    x = math.floor(np.random.rand() * 10 - 4)\n",
        "    y = math.floor(np.random.rand() * 9 - 4)\n",
        "    Fxy = F(x, y, 1000)\n",
        "    fxy = f(x, y)\n",
        "    if(x==6 or y==6):\n",
        "      print(\"shame on your cow\")\n",
        "    \n",
        "    history_F.append(Fxy)\n",
        "    if f_opt is None or Fxy < F_opt:\n",
        "        x_opt = x\n",
        "        y_opt = y\n",
        "        F_opt = Fxy\n",
        "        f_opt = fxy\n",
        "    history_F_opt.append(F_opt)\n",
        "\n",
        "print('x = {:6.4f}, y = {:6.5f}, f(x,y) = {:6.4f}'.format(x_opt, y_opt, f_opt))\n",
        "plt.plot(history_F, '-g');\n",
        "plt.plot(history_F_opt, '-r');"
      ],
      "execution_count": 12,
      "outputs": [
        {
          "output_type": "stream",
          "text": [
            "x = 1.0000, y = 4.00000, f(x,y) = 59.3700\n"
          ],
          "name": "stdout"
        },
        {
          "output_type": "display_data",
          "data": {
            "image/png": "[encoded data removed]",
            "text/plain": [
              "<Figure size 432x288 with 1 Axes>"
            ]
          },
          "metadata": {
            "tags": []
          }
        }
      ]
    },
    {
      "cell_type": "code",
      "metadata": {
        "id": "c5K3lXVxt_xC",
        "colab_type": "code",
        "colab": {
          "base_uri": "https://localhost:8080/",
          "height": 283
        },
        "outputId": "0e41e775-e702-4571-c6bd-2f46b5498180"
      },
      "source": [
        "max_iter = 10000 # número total de iteraciones\n",
        "R = 3.0         # radio inicial de búsqueda\n",
        "alpha = 0.999   # factor de reducción del radio R de búsqueda\n",
        "beta  = 0.95    # factor de reducción del factor de aceptación\n",
        "K = 20          # factor de aceptación\n",
        "delta = 100\n",
        "\n",
        "## punto inicial aleatorio\n",
        "x_opt = np.random.rand() * 9 - 4\n",
        "y_opt = np.random.rand() * 9 - 4\n",
        "F_opt = F(x, y, delta)\n",
        "f_opt = f(x, y)\n",
        "\n",
        "history_F = []\n",
        "history_F_opt = []\n",
        "\n",
        "## optimización\n",
        "for n in range(max_iter):\n",
        "\n",
        "    ## genera un vector unitario\n",
        "    ## con dirección aleatoria\n",
        "    dx = 2 * np.random.rand() - 1\n",
        "    dy = 2 * np.random.rand() - 1\n",
        "    d  = math.sqrt(dx**2 + dy**2)\n",
        "    dx = dx / d\n",
        "    dy = dy / d\n",
        "\n",
        "    ## genera un punto aleatorio dentro de\n",
        "    ## la circunferencia de radio R y con centro\n",
        "    ## en el optimo actual\n",
        "    x = x_opt + R * np.random.rand() * dx\n",
        "    y = y_opt + R * np.random.rand() * dy\n",
        "    fxy = f(x, y)\n",
        "    Fxy = F(x, y, delta)\n",
        "\n",
        "    ## calcula el delta entre el optimo actual\n",
        "    ## y el punto aleatorio\n",
        "    deltaF = Fxy - F_opt\n",
        "\n",
        "    history_F.append(Fxy)\n",
        "    if deltaF <= K:\n",
        "        x_opt = x\n",
        "        y_opt = y\n",
        "        F_opt = Fxy\n",
        "        f_opt = fxy\n",
        "    history_F_opt.append(F_opt)\n",
        "\n",
        "    R = R * alpha\n",
        "    K = K * beta\n",
        "\n",
        "print('x = {:6.4f}, y = {:6.5f}, f(x,y) = {:6.4f}'.format(x_opt, y_opt, f_opt))\n",
        "plt.plot(history_F, '-g');\n",
        "plt.plot(history_F_opt, '-r');"
      ],
      "execution_count": 32,
      "outputs": [
        {
          "output_type": "stream",
          "text": [
            "x = 3.8154, y = 4.13444, f(x,y) = 70.3017\n"
          ],
          "name": "stdout"
        },
        {
          "output_type": "display_data",
          "data": {
            "image/png": "[encoded data removed]",
            "text/plain": [
              "<Figure size 432x288 with 1 Axes>"
            ]
          },
          "metadata": {
            "tags": []
          }
        }
      ]
    },
    {
      "cell_type": "code",
      "metadata": {
        "id": "6Y_2cvSLyZhQ",
        "colab_type": "code",
        "colab": {}
      },
      "source": [
        ""
      ],
      "execution_count": 0,
      "outputs": []
    },
    {
      "cell_type": "markdown",
      "metadata": {
        "id": "L2O_MHDq2dGa",
        "colab_type": "text"
      },
      "source": [
        "## Minimo para\n",
        "$\\lfloor x + 0.5 \\rfloor^2 +  \\lfloor y + 0.5 \\rfloor^2$"
      ]
    },
    {
      "cell_type": "code",
      "metadata": {
        "id": "ETv_4d_X3HDx",
        "colab_type": "code",
        "colab": {
          "base_uri": "https://localhost:8080/",
          "height": 283
        },
        "outputId": "9904060b-7661-435d-eb4c-278ee5672ff1"
      },
      "source": [
        "x_opt = None\n",
        "y_opt = None\n",
        "F_opt = None\n",
        "f_opt = None\n",
        "history_F = []\n",
        "history_F_opt = []\n",
        "\n",
        "def f(x, y):\n",
        "    return math.floor(x+0.5)**2 + math.floor(y+0.5)**2\n",
        "def F(x, y, delta):\n",
        "    fxy = f(x, y) ## función original\n",
        "    ## restriccion -4<x<5\n",
        "    R1 = (abs(math.sin(math.pi * x)))**4 + abs((math.sin(math.pi * y)))**4 ## Restriccion de enteros\n",
        "    R21 = abs(x + 3) + (-3 - x) \n",
        "    R22 = abs(y + 3) + (-3 - y)\n",
        "    R23 = abs(x - 3) - (3 - x)\n",
        "    R24 = abs(y - 3) - (3 - y)\n",
        "    return fxy + delta * (R21 + R22 + R23 + R24+R1)\n",
        "\n",
        "for n in range(10000):\n",
        "    x = math.floor(np.random.rand() * 6 - 4)\n",
        "    y = math.floor(np.random.rand() * 6 - 4)\n",
        "\n",
        "    x = (np.random.rand() * 6 - 3)\n",
        "    y = (np.random.rand() * 6 - 3)\n",
        "\n",
        "\n",
        "    Fxy = F(x, y, 1000)\n",
        "    fxy = f(x, y)\n",
        "    \n",
        "    history_F.append(Fxy)\n",
        "    if f_opt is None or Fxy < F_opt:\n",
        "        x_opt = x\n",
        "        y_opt = y\n",
        "        F_opt = Fxy\n",
        "        f_opt = fxy\n",
        "    history_F_opt.append(F_opt)\n",
        "\n",
        "print('x = {:6.4f}, y = {:6.5f}, f(x,y) = {:6.4f}'.format(x_opt, y_opt, f_opt))\n",
        "plt.plot(history_F, '-g');\n",
        "plt.plot(history_F_opt, '-r');"
      ],
      "execution_count": 42,
      "outputs": [
        {
          "output_type": "stream",
          "text": [
            "x = -0.0042, y = 0.01142, f(x,y) = 0.0000\n"
          ],
          "name": "stdout"
        },
        {
          "output_type": "display_data",
          "data": {
            "image/png": "[encoded data removed]",
            "text/plain": [
              "<Figure size 432x288 with 1 Axes>"
            ]
          },
          "metadata": {
            "tags": []
          }
        }
      ]
    },
    {
      "cell_type": "code",
      "metadata": {
        "id": "_4n823qs4pQ6",
        "colab_type": "code",
        "colab": {}
      },
      "source": [
        ""
      ],
      "execution_count": 0,
      "outputs": []
    }
  ]
}