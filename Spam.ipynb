{
  "nbformat": 4,
  "nbformat_minor": 0,
  "metadata": {
    "colab": {
      "name": "Spam.ipynb",
      "provenance": [],
      "collapsed_sections": [],
      "authorship_tag": "ABX9TyMn9wd5+++T3RDHnOYuyxnu",
      "include_colab_link": true
    },
    "kernelspec": {
      "name": "python3",
      "display_name": "Python 3"
    }
  },
  "cells": [
    {
      "cell_type": "markdown",
      "metadata": {
        "id": "view-in-github",
        "colab_type": "text"
      },
      "source": [
        "<a href=\"https://colab.research.google.com/github/jfmra99/Redes_Neuronales/blob/master/Spam.ipynb\" target=\"_parent\"><img src=\"https://colab.research.google.com/assets/colab-badge.svg\" alt=\"Open In Colab\"/></a>"
      ]
    },
    {
      "cell_type": "markdown",
      "metadata": {
        "id": "Jqx9d3fk1trQ",
        "colab_type": "text"
      },
      "source": [
        "# **SOLUCIÓN: clasificación de spam**"
      ]
    },
    {
      "cell_type": "markdown",
      "metadata": {
        "id": "XhDj4JDE2cn5",
        "colab_type": "text"
      },
      "source": [
        "## **Introducción**\n",
        "Se quiere ajustar dos modelos para clasificar mensajes de texto como spam o ham (mensaje veridico). Se ajustará una red neuronal y se le comparará con un modelo clásico (regresión logit).\n",
        "\n",
        "## **Carga de librerias**"
      ]
    },
    {
      "cell_type": "code",
      "metadata": {
        "id": "haFMhcqR2iWT",
        "colab_type": "code",
        "colab": {}
      },
      "source": [
        "\n",
        "from sklearn.linear_model import LogisticRegression\n",
        "from sklearn.metrics import plot_confusion_matrix\n",
        "from sklearn.neural_network import MLPClassifier\n",
        "from sklearn.metrics import confusion_matrix\n",
        "from sklearn.metrics import accuracy_score\n",
        "\n",
        "import pandas as pd\n",
        "import numpy as np\n",
        "import seaborn as sns\n",
        "import matplotlib.pyplot as plt"
      ],
      "execution_count": 0,
      "outputs": []
    },
    {
      "cell_type": "markdown",
      "metadata": {
        "id": "PjEpnpCt2wkc",
        "colab_type": "text"
      },
      "source": [
        "## **Conjunto de datos**"
      ]
    },
    {
      "cell_type": "markdown",
      "metadata": {
        "id": "_pKh3ecVeRj4",
        "colab_type": "text"
      },
      "source": [
        "Los datos se obtienen del [enlace](http://www.dt.fee.unicamp.br/~tiago/smsspamcollection/), se tienen 5574 datos reales de mensajes de SMS en inglés."
      ]
    },
    {
      "cell_type": "code",
      "metadata": {
        "id": "TwwlDvE320yT",
        "colab_type": "code",
        "colab": {
          "base_uri": "https://localhost:8080/",
          "height": 404
        },
        "outputId": "be522491-f6ca-40be-c405-a0de3627be50"
      },
      "source": [
        "# Carga de la base\n",
        "df = pd.read_csv(\n",
        "    \"https://github.com/ANN-2019-2/evaluacion-jfmra99/raw/master/03-spam-SOLUCI%C3%93N/sms_spam_Data.csv\",\n",
        "    sep = ',',\n",
        "    encoding='UTF-8')\n",
        "\n",
        "df"
      ],
      "execution_count": 9,
      "outputs": [
        {
          "output_type": "execute_result",
          "data": {
            "text/html": [
              "<div>\n",
              "<style scoped>\n",
              "    .dataframe tbody tr th:only-of-type {\n",
              "        vertical-align: middle;\n",
              "    }\n",
              "\n",
              "    .dataframe tbody tr th {\n",
              "        vertical-align: top;\n",
              "    }\n",
              "\n",
              "    .dataframe thead th {\n",
              "        text-align: right;\n",
              "    }\n",
              "</style>\n",
              "<table border=\"1\" class=\"dataframe\">\n",
              "  <thead>\n",
              "    <tr style=\"text-align: right;\">\n",
              "      <th></th>\n",
              "      <th>type</th>\n",
              "      <th>text</th>\n",
              "    </tr>\n",
              "  </thead>\n",
              "  <tbody>\n",
              "    <tr>\n",
              "      <th>0</th>\n",
              "      <td>ham</td>\n",
              "      <td>Go until jurong point, crazy.. Available only ...</td>\n",
              "    </tr>\n",
              "    <tr>\n",
              "      <th>1</th>\n",
              "      <td>ham</td>\n",
              "      <td>Ok lar... Joking wif u oni...</td>\n",
              "    </tr>\n",
              "    <tr>\n",
              "      <th>2</th>\n",
              "      <td>spam</td>\n",
              "      <td>Free entry in 2 a wkly comp to win FA Cup fina...</td>\n",
              "    </tr>\n",
              "    <tr>\n",
              "      <th>3</th>\n",
              "      <td>ham</td>\n",
              "      <td>U dun say so early hor... U c already then say...</td>\n",
              "    </tr>\n",
              "    <tr>\n",
              "      <th>4</th>\n",
              "      <td>ham</td>\n",
              "      <td>Nah I don't think he goes to usf, he lives aro...</td>\n",
              "    </tr>\n",
              "    <tr>\n",
              "      <th>...</th>\n",
              "      <td>...</td>\n",
              "      <td>...</td>\n",
              "    </tr>\n",
              "    <tr>\n",
              "      <th>5569</th>\n",
              "      <td>spam</td>\n",
              "      <td>This is the 2nd time we have tried 2 contact u...</td>\n",
              "    </tr>\n",
              "    <tr>\n",
              "      <th>5570</th>\n",
              "      <td>ham</td>\n",
              "      <td>Will ü b going to esplanade fr home?</td>\n",
              "    </tr>\n",
              "    <tr>\n",
              "      <th>5571</th>\n",
              "      <td>ham</td>\n",
              "      <td>Pity, * was in mood for that. So...any other s...</td>\n",
              "    </tr>\n",
              "    <tr>\n",
              "      <th>5572</th>\n",
              "      <td>ham</td>\n",
              "      <td>The guy did some bitching but I acted like i'd...</td>\n",
              "    </tr>\n",
              "    <tr>\n",
              "      <th>5573</th>\n",
              "      <td>ham</td>\n",
              "      <td>Rofl. Its true to its name</td>\n",
              "    </tr>\n",
              "  </tbody>\n",
              "</table>\n",
              "<p>5574 rows × 2 columns</p>\n",
              "</div>"
            ],
            "text/plain": [
              "      type                                               text\n",
              "0      ham  Go until jurong point, crazy.. Available only ...\n",
              "1      ham                      Ok lar... Joking wif u oni...\n",
              "2     spam  Free entry in 2 a wkly comp to win FA Cup fina...\n",
              "3      ham  U dun say so early hor... U c already then say...\n",
              "4      ham  Nah I don't think he goes to usf, he lives aro...\n",
              "...    ...                                                ...\n",
              "5569  spam  This is the 2nd time we have tried 2 contact u...\n",
              "5570   ham               Will ü b going to esplanade fr home?\n",
              "5571   ham  Pity, * was in mood for that. So...any other s...\n",
              "5572   ham  The guy did some bitching but I acted like i'd...\n",
              "5573   ham                         Rofl. Its true to its name\n",
              "\n",
              "[5574 rows x 2 columns]"
            ]
          },
          "metadata": {
            "tags": []
          },
          "execution_count": 9
        }
      ]
    },
    {
      "cell_type": "markdown",
      "metadata": {
        "id": "35UprwA8feBq",
        "colab_type": "text"
      },
      "source": [
        "A continuación se puede apreciar en la tabla y el gráfico que la gran mayoría de los mensajes son reales (ham): "
      ]
    },
    {
      "cell_type": "code",
      "metadata": {
        "id": "URXnI5TY3pNc",
        "colab_type": "code",
        "colab": {
          "base_uri": "https://localhost:8080/",
          "height": 137
        },
        "outputId": "7c01e9f6-3695-41fd-e6e3-a984dda0b36e"
      },
      "source": [
        "df.groupby('type').count()"
      ],
      "execution_count": 6,
      "outputs": [
        {
          "output_type": "execute_result",
          "data": {
            "text/html": [
              "<div>\n",
              "<style scoped>\n",
              "    .dataframe tbody tr th:only-of-type {\n",
              "        vertical-align: middle;\n",
              "    }\n",
              "\n",
              "    .dataframe tbody tr th {\n",
              "        vertical-align: top;\n",
              "    }\n",
              "\n",
              "    .dataframe thead th {\n",
              "        text-align: right;\n",
              "    }\n",
              "</style>\n",
              "<table border=\"1\" class=\"dataframe\">\n",
              "  <thead>\n",
              "    <tr style=\"text-align: right;\">\n",
              "      <th></th>\n",
              "      <th>text</th>\n",
              "    </tr>\n",
              "    <tr>\n",
              "      <th>type</th>\n",
              "      <th></th>\n",
              "    </tr>\n",
              "  </thead>\n",
              "  <tbody>\n",
              "    <tr>\n",
              "      <th>ham</th>\n",
              "      <td>4827</td>\n",
              "    </tr>\n",
              "    <tr>\n",
              "      <th>spam</th>\n",
              "      <td>747</td>\n",
              "    </tr>\n",
              "  </tbody>\n",
              "</table>\n",
              "</div>"
            ],
            "text/plain": [
              "      text\n",
              "type      \n",
              "ham   4827\n",
              "spam   747"
            ]
          },
          "metadata": {
            "tags": []
          },
          "execution_count": 6
        }
      ]
    },
    {
      "cell_type": "code",
      "metadata": {
        "id": "xKEnKXD9mzfL",
        "colab_type": "code",
        "colab": {
          "base_uri": "https://localhost:8080/",
          "height": 315
        },
        "outputId": "7b2befe2-93ce-4c35-902e-c29252590121"
      },
      "source": [
        "df.groupby('type').count().plot.bar(color = \"green\")"
      ],
      "execution_count": 13,
      "outputs": [
        {
          "output_type": "execute_result",
          "data": {
            "text/plain": [
              "<matplotlib.axes._subplots.AxesSubplot at 0x7f8114addda0>"
            ]
          },
          "metadata": {
            "tags": []
          },
          "execution_count": 13
        },
        {
          "output_type": "display_data",
          "data": {
            "image/png": "[encoded data removed]",
            "text/plain": [
              "<Figure size 432x288 with 1 Axes>"
            ]
          },
          "metadata": {
            "tags": []
          }
        }
      ]
    },
    {
      "cell_type": "markdown",
      "metadata": {
        "id": "V_VrhGDdnpkD",
        "colab_type": "text"
      },
      "source": [
        "## **Pre-procesamiento de los datos**\n",
        "Para ajustar los modelos, los textos de los mensajes se pre-procesan siguiendo la metodología utilizada en el ejemplo del profesor Juan David Velasquez, la cuall puede verse [aqui](https://jdvelasq.github.io/courses/notebooks/sklearn/bayes/02-filtrado-de-mensajes-sms.html).\n",
        "\n",
        "Primero se reducen los textos a su raíz grecolatina utilizando un **Stemmer**"
      ]
    },
    {
      "cell_type": "code",
      "metadata": {
        "id": "gT2bmlv93ttk",
        "colab_type": "code",
        "colab": {
          "base_uri": "https://localhost:8080/",
          "height": 345
        },
        "outputId": "a355ad7c-ae1d-4d9c-e78a-c8e6fa398ed1"
      },
      "source": [
        "from nltk.stem.porter import PorterStemmer\n",
        "stemmer = PorterStemmer()\n",
        "\n",
        "df['stemmed'] = df.text.apply(lambda x: ' '.join([stemmer.stem(w) for w in x.split() ]))\n",
        "\n",
        "df.head(10)"
      ],
      "execution_count": 14,
      "outputs": [
        {
          "output_type": "execute_result",
          "data": {
            "text/html": [
              "<div>\n",
              "<style scoped>\n",
              "    .dataframe tbody tr th:only-of-type {\n",
              "        vertical-align: middle;\n",
              "    }\n",
              "\n",
              "    .dataframe tbody tr th {\n",
              "        vertical-align: top;\n",
              "    }\n",
              "\n",
              "    .dataframe thead th {\n",
              "        text-align: right;\n",
              "    }\n",
              "</style>\n",
              "<table border=\"1\" class=\"dataframe\">\n",
              "  <thead>\n",
              "    <tr style=\"text-align: right;\">\n",
              "      <th></th>\n",
              "      <th>type</th>\n",
              "      <th>text</th>\n",
              "      <th>stemmed</th>\n",
              "    </tr>\n",
              "  </thead>\n",
              "  <tbody>\n",
              "    <tr>\n",
              "      <th>0</th>\n",
              "      <td>ham</td>\n",
              "      <td>Go until jurong point, crazy.. Available only ...</td>\n",
              "      <td>Go until jurong point, crazy.. avail onli in b...</td>\n",
              "    </tr>\n",
              "    <tr>\n",
              "      <th>1</th>\n",
              "      <td>ham</td>\n",
              "      <td>Ok lar... Joking wif u oni...</td>\n",
              "      <td>Ok lar... joke wif u oni...</td>\n",
              "    </tr>\n",
              "    <tr>\n",
              "      <th>2</th>\n",
              "      <td>spam</td>\n",
              "      <td>Free entry in 2 a wkly comp to win FA Cup fina...</td>\n",
              "      <td>free entri in 2 a wkli comp to win FA cup fina...</td>\n",
              "    </tr>\n",
              "    <tr>\n",
              "      <th>3</th>\n",
              "      <td>ham</td>\n",
              "      <td>U dun say so early hor... U c already then say...</td>\n",
              "      <td>U dun say so earli hor... U c alreadi then say...</td>\n",
              "    </tr>\n",
              "    <tr>\n",
              "      <th>4</th>\n",
              "      <td>ham</td>\n",
              "      <td>Nah I don't think he goes to usf, he lives aro...</td>\n",
              "      <td>nah I don't think he goe to usf, he live aroun...</td>\n",
              "    </tr>\n",
              "    <tr>\n",
              "      <th>5</th>\n",
              "      <td>spam</td>\n",
              "      <td>FreeMsg Hey there darling it's been 3 week's n...</td>\n",
              "      <td>freemsg hey there darl it' been 3 week' now an...</td>\n",
              "    </tr>\n",
              "    <tr>\n",
              "      <th>6</th>\n",
              "      <td>ham</td>\n",
              "      <td>Even my brother is not like to speak with me. ...</td>\n",
              "      <td>even my brother is not like to speak with me. ...</td>\n",
              "    </tr>\n",
              "    <tr>\n",
              "      <th>7</th>\n",
              "      <td>ham</td>\n",
              "      <td>As per your request 'Melle Melle (Oru Minnamin...</td>\n",
              "      <td>As per your request 'mell mell (oru minnaminun...</td>\n",
              "    </tr>\n",
              "    <tr>\n",
              "      <th>8</th>\n",
              "      <td>spam</td>\n",
              "      <td>WINNER!! As a valued network customer you have...</td>\n",
              "      <td>winner!! As a valu network custom you have bee...</td>\n",
              "    </tr>\n",
              "    <tr>\n",
              "      <th>9</th>\n",
              "      <td>spam</td>\n",
              "      <td>Had your mobile 11 months or more? U R entitle...</td>\n",
              "      <td>had your mobil 11 month or more? U R entitl to...</td>\n",
              "    </tr>\n",
              "  </tbody>\n",
              "</table>\n",
              "</div>"
            ],
            "text/plain": [
              "   type  ...                                            stemmed\n",
              "0   ham  ...  Go until jurong point, crazy.. avail onli in b...\n",
              "1   ham  ...                        Ok lar... joke wif u oni...\n",
              "2  spam  ...  free entri in 2 a wkli comp to win FA cup fina...\n",
              "3   ham  ...  U dun say so earli hor... U c alreadi then say...\n",
              "4   ham  ...  nah I don't think he goe to usf, he live aroun...\n",
              "5  spam  ...  freemsg hey there darl it' been 3 week' now an...\n",
              "6   ham  ...  even my brother is not like to speak with me. ...\n",
              "7   ham  ...  As per your request 'mell mell (oru minnaminun...\n",
              "8  spam  ...  winner!! As a valu network custom you have bee...\n",
              "9  spam  ...  had your mobil 11 month or more? U R entitl to...\n",
              "\n",
              "[10 rows x 3 columns]"
            ]
          },
          "metadata": {
            "tags": []
          },
          "execution_count": 14
        }
      ]
    },
    {
      "cell_type": "markdown",
      "metadata": {
        "id": "1fR9T9mupQ3S",
        "colab_type": "text"
      },
      "source": [
        "Luego se crea  una matriz de terminos del documento. De manera que se contabilizan cuantas veces aparecen las palabras en los mensajes. De esta manera estas serviran para identificar que mensaje es spam en base a su frecuencia:"
      ]
    },
    {
      "cell_type": "code",
      "metadata": {
        "id": "-FgOnv8t3z3z",
        "colab_type": "code",
        "colab": {}
      },
      "source": [
        "##\n",
        "## Matriz de términos del documento en Python\n",
        "##\n",
        "from sklearn.feature_extraction.text import CountVectorizer\n",
        "\n",
        "count_vect = CountVectorizer(\n",
        "    analyzer='word',        # a nivel de palabra\n",
        "    lowercase=True,         # convierte a minúsculas\n",
        "    stop_words='english',   # stop_words en inglés\n",
        "    binary=True,            # Los valores distintos de cero son fijados en 1\n",
        "    min_df=5                # ignora palabras con baja freq\n",
        ")\n",
        "\n",
        "\n",
        "##\n",
        "## Aplica la función al texto\n",
        "##\n",
        "dtm = count_vect.fit_transform(df.stemmed)\n",
        "\n",
        "## lista de palabras registrada\n",
        "vocabulary = count_vect.get_feature_names()\n",
        "\n"
      ],
      "execution_count": 0,
      "outputs": []
    },
    {
      "cell_type": "markdown",
      "metadata": {
        "id": "EGa6uN8qqp2L",
        "colab_type": "text"
      },
      "source": [
        "`dtm` es nuestra matriz de palabras, tendriamos 1574 terminos diferentes para los 5574 mensajes: "
      ]
    },
    {
      "cell_type": "code",
      "metadata": {
        "id": "T3LHvAEwq0aa",
        "colab_type": "code",
        "colab": {
          "base_uri": "https://localhost:8080/",
          "height": 33
        },
        "outputId": "951037f2-fd00-4d04-8111-5577a54fae46"
      },
      "source": [
        "dtm.shape"
      ],
      "execution_count": 17,
      "outputs": [
        {
          "output_type": "execute_result",
          "data": {
            "text/plain": [
              "(5574, 1535)"
            ]
          },
          "metadata": {
            "tags": []
          },
          "execution_count": 17
        }
      ]
    },
    {
      "cell_type": "markdown",
      "metadata": {
        "id": "brIeH1TVrNep",
        "colab_type": "text"
      },
      "source": [
        "Se define una función para recuperar los mensajes de la htm:"
      ]
    },
    {
      "cell_type": "code",
      "metadata": {
        "id": "qbtNyZBAqfnf",
        "colab_type": "code",
        "colab": {}
      },
      "source": [
        "def dtm2words(dtm, vocabulary, index):\n",
        "    as_list = dtm[index,:].toarray().tolist()\n",
        "    docs = []\n",
        "    for i in index:\n",
        "        k = [vocabulary[iword] for iword, ifreq in enumerate(as_list[i]) if ifreq > 0]\n",
        "        docs += [k]\n",
        "    return docs"
      ],
      "execution_count": 0,
      "outputs": []
    },
    {
      "cell_type": "markdown",
      "metadata": {
        "id": "L4CF-wGfpP0T",
        "colab_type": "text"
      },
      "source": [
        "## Conjunto de prueba y validación\n",
        "Se separa el conjunto de datos en dos partes, el 75% de los datos serán utilizados para el entrenamiento y el 25% para la validación:"
      ]
    },
    {
      "cell_type": "code",
      "metadata": {
        "id": "82BTwxL_35Bb",
        "colab_type": "code",
        "colab": {}
      },
      "source": [
        "\n",
        "##\n",
        "## Creación de los conjuntos de entrenamiento y prueba.\n",
        "##\n",
        "indices = np.random.rand(5574) < 0.75\n",
        "\n",
        "X_train      = dtm[indices,]\n",
        "X_test       = dtm[~indices,]\n",
        "y_train_true = df.type[indices]\n",
        "y_test_true  = df.type[~indices]"
      ],
      "execution_count": 0,
      "outputs": []
    },
    {
      "cell_type": "markdown",
      "metadata": {
        "id": "NHD8-7QHso4k",
        "colab_type": "text"
      },
      "source": [
        "Se verifica que la proporción de datos spam y reales sean similares en el conjunto de entrenamiento y validación."
      ]
    },
    {
      "cell_type": "code",
      "metadata": {
        "id": "Bp4Q5JNCsu8i",
        "colab_type": "code",
        "colab": {
          "base_uri": "https://localhost:8080/",
          "height": 150
        },
        "outputId": "1bb238de-f3c8-42cf-b34c-e98b1109eab6"
      },
      "source": [
        "print(\"Distribución de los datos en el conjunto de entrenamiento:\")\n",
        "print(round(100 * y_train_true.value_counts() / sum(y_train_true.value_counts()), 1))\n",
        "##\n",
        "print(\"Distribución de los datos en el conjunto de validación:\")\n",
        "round(100 * y_test_true.value_counts() / sum(y_test_true.value_counts()), 1)"
      ],
      "execution_count": 63,
      "outputs": [
        {
          "output_type": "stream",
          "text": [
            "Distribución de los datos en el conjunto de entrenamiento:\n",
            "ham     86.8\n",
            "spam    13.2\n",
            "Name: type, dtype: float64\n",
            "Distribución de los datos en el conjunto de validación:\n"
          ],
          "name": "stdout"
        },
        {
          "output_type": "execute_result",
          "data": {
            "text/plain": [
              "ham     86.0\n",
              "spam    14.0\n",
              "Name: type, dtype: float64"
            ]
          },
          "metadata": {
            "tags": []
          },
          "execution_count": 63
        }
      ]
    },
    {
      "cell_type": "markdown",
      "metadata": {
        "id": "QL0h8W6btGBx",
        "colab_type": "text"
      },
      "source": [
        "## Modelo logístico\n",
        "\n",
        "Nuestro modelo de referencia será una regresión logit, por ser uno de los métodos más populares para clasificación:"
      ]
    },
    {
      "cell_type": "code",
      "metadata": {
        "id": "aq_MzVNp3_fr",
        "colab_type": "code",
        "colab": {
          "base_uri": "https://localhost:8080/",
          "height": 33
        },
        "outputId": "cc9968dc-7042-49e2-f898-5c14081d718a"
      },
      "source": [
        "base_model = LogisticRegression(random_state=420).fit(X_train, y_train_true)\n",
        "\n",
        "accuracy_score(y_test_true, base_model.predict(X_test))"
      ],
      "execution_count": 70,
      "outputs": [
        {
          "output_type": "execute_result",
          "data": {
            "text/plain": [
              "0.9749652294853964"
            ]
          },
          "metadata": {
            "tags": []
          },
          "execution_count": 70
        }
      ]
    },
    {
      "cell_type": "markdown",
      "metadata": {
        "id": "6oKY44bYD9K5",
        "colab_type": "text"
      },
      "source": [
        "Este tiene una precisión del 97.5% en el conjunto de validación. Y una matriz de confusión:"
      ]
    },
    {
      "cell_type": "code",
      "metadata": {
        "id": "n6FIE7K8EQv2",
        "colab_type": "code",
        "colab": {
          "base_uri": "https://localhost:8080/",
          "height": 50
        },
        "outputId": "3d06a681-3d9a-4a33-ddfb-0d39ae331df6"
      },
      "source": [
        "confusion_matrix(y_test_true, base_model.predict(X_test))"
      ],
      "execution_count": 69,
      "outputs": [
        {
          "output_type": "execute_result",
          "data": {
            "text/plain": [
              "array([[1236,    1],\n",
              "       [  35,  166]])"
            ]
          },
          "metadata": {
            "tags": []
          },
          "execution_count": 69
        }
      ]
    },
    {
      "cell_type": "markdown",
      "metadata": {
        "id": "kv8Du7ruFIpn",
        "colab_type": "text"
      },
      "source": [
        "Con visualización porcentual:"
      ]
    },
    {
      "cell_type": "code",
      "metadata": {
        "id": "kiaxaUrdELvV",
        "colab_type": "code",
        "colab": {
          "base_uri": "https://localhost:8080/",
          "height": 295
        },
        "outputId": "1c87c4af-167a-4d9e-f466-4e9627d2a7ac"
      },
      "source": [
        "cm = plot_confusion_matrix(base_model, X_test, y_test_true,\n",
        "                           display_labels=['ham', 'spam'],\n",
        "                           cmap=plt.cm.Blues,\n",
        "                           normalize='true')\n",
        "cm.ax_.set_title(\"Matriz de confusion normalizada\")\n",
        "plt.show()"
      ],
      "execution_count": 71,
      "outputs": [
        {
          "output_type": "display_data",
          "data": {
            "image/png": "[encoded data removed]",
            "text/plain": [
              "<Figure size 432x288 with 2 Axes>"
            ]
          },
          "metadata": {
            "tags": []
          }
        }
      ]
    },
    {
      "cell_type": "markdown",
      "metadata": {
        "id": "S-r7Bh0AwPcO",
        "colab_type": "text"
      },
      "source": [
        "## Clasificación mediante red neuronal"
      ]
    },
    {
      "cell_type": "markdown",
      "metadata": {
        "id": "NkXsMHd5xcWr",
        "colab_type": "text"
      },
      "source": [
        "Se consideran un clasificador de perceptrones para solucionar el problema, se utilizará `MLPClassifier`, el cual puede encontrarse en `sklearn.neural_network`. Se varian el número de neuronas en cada capa (de 1 a 5), el momentum entre los valores (0.1, 0.45, 0.6, 0.75, 0.9) y se utiliza una tasa de aprendizaje decreciente a lo largo del entrenamiento (con valor inicial 0.5).\n",
        "\n",
        "El mejor modelo se elegira de su capacidad de reducir la precisión (aciertos/total_registros) en el conjunto de entrenamiento:"
      ]
    },
    {
      "cell_type": "code",
      "metadata": {
        "id": "zRVI5rzx4Edb",
        "colab_type": "code",
        "colab": {}
      },
      "source": [
        "# Seguarda la precision para las graficas\n",
        "N = dtm.shape[0]\n",
        "#maximo numero de neuronal por capa\n",
        "max_neur = 6\n",
        "\n",
        "## Mejor modelo\n",
        "best_model = None\n",
        "acc_best_model = 0\n",
        "\n",
        "\n",
        "best_moment = None\n",
        "\n",
        "momentum = np.arange(0.1, 0.91, 0.15)\n",
        "\n",
        "for h2_n in range(1, max_neur + 1):\n",
        "  for h1_n in range(1, max_neur + 1):\n",
        "    for mom in momentum:\n",
        "      if(h1_n < h2_n):\n",
        "        next\n",
        "\n",
        "      percept = MLPClassifier(hidden_layer_sizes=(h1_n, h2_n),\n",
        "          activation = 'logistic',\n",
        "          solver = 'sgd',\n",
        "          learning_rate = 'adaptive', #\n",
        "          momentum = mom,\n",
        "          learning_rate_init = 0.5,\n",
        "          random_state = 11,\n",
        "          max_iter = 1000\n",
        "          )\n",
        "      percept.fit(X_train, y_train_true)\n",
        "      accuracy_mod = accuracy_score(y_test_true, percept.predict(X_test))\n",
        "\n",
        "      if(accuracy_mod > acc_best_model):\n",
        "        acc_best_model = accuracy_mod\n",
        "        best_model = percept\n"
      ],
      "execution_count": 0,
      "outputs": []
    },
    {
      "cell_type": "code",
      "metadata": {
        "id": "jtk8D9x0-wG1",
        "colab_type": "code",
        "colab": {
          "base_uri": "https://localhost:8080/",
          "height": 50
        },
        "outputId": "571859d9-af67-4a26-dc26-fca9b69964da"
      },
      "source": [
        "acc_train = accuracy_score(y_train_true, best_model.predict(X_train))\n",
        "print(\"El mejor modelo utilizó un momentum de\", best_model.momentum, \n",
        "      \" Sus dos capas ocultas tenian\", best_model.hidden_layer_sizes, \"capas ocultas.\")\n",
        "\n",
        "print(\"Además tuvo una precisión en los datos de entrenamiento de\", acc_train, \"y en los datos de validación de\", acc_best_model)"
      ],
      "execution_count": 62,
      "outputs": [
        {
          "output_type": "stream",
          "text": [
            "El mejor modelo utilizó un momentum de 0.7  Sus dos capas ocultas tenian (5, 5) capas ocultas.\n",
            "Además tuvo una precisión en los datos de entrenamiento de 0.999274661508704 y en los datos de validación de 0.9826147426981919\n"
          ],
          "name": "stdout"
        }
      ]
    },
    {
      "cell_type": "markdown",
      "metadata": {
        "id": "QafdqQMn-3o1",
        "colab_type": "text"
      },
      "source": [
        "En este caso la matriz de confusión del mejor modelo para el conjunto de validación fue:"
      ]
    },
    {
      "cell_type": "code",
      "metadata": {
        "id": "doU_tXGO_AnV",
        "colab_type": "code",
        "colab": {
          "base_uri": "https://localhost:8080/",
          "height": 50
        },
        "outputId": "2fedbfec-397d-4c3f-8c5a-d27b9f903f14"
      },
      "source": [
        "y_test_est = best_model.predict(X_test)\n",
        "confusion_matrix(y_test_true, y_test_est)"
      ],
      "execution_count": 60,
      "outputs": [
        {
          "output_type": "execute_result",
          "data": {
            "text/plain": [
              "array([[1230,    7],\n",
              "       [  18,  183]])"
            ]
          },
          "metadata": {
            "tags": []
          },
          "execution_count": 60
        }
      ]
    },
    {
      "cell_type": "markdown",
      "metadata": {
        "id": "VTsDUcwU_Cue",
        "colab_type": "text"
      },
      "source": [
        "Con visualización porcentual:"
      ]
    },
    {
      "cell_type": "code",
      "metadata": {
        "id": "9OaLCA4o4Mvr",
        "colab_type": "code",
        "colab": {
          "base_uri": "https://localhost:8080/",
          "height": 295
        },
        "outputId": "0dcba126-275f-44a3-eba9-eac1af38d13e"
      },
      "source": [
        "cm = plot_confusion_matrix(best_model, X_test, y_test_true,\n",
        "     display_labels=['ham', 'spam'],\n",
        "     cmap=plt.cm.Blues,\n",
        "     normalize='true')\n",
        "\n",
        "cm.ax_.set_title(\"Matriz de confusion normalizada para la red neuronal\")\n",
        "plt.show()"
      ],
      "execution_count": 61,
      "outputs": [
        {
          "output_type": "display_data",
          "data": {
            "image/png": "[encoded data removed]",
            "text/plain": [
              "<Figure size 432x288 with 2 Axes>"
            ]
          },
          "metadata": {
            "tags": []
          }
        }
      ]
    },
    {
      "cell_type": "markdown",
      "metadata": {
        "id": "Nsa-4UIixRJb",
        "colab_type": "text"
      },
      "source": [
        "Se puede apreciar una mejoria general del modelo de redes neuronales frente a la regresión logística. Con una precisión mayor (aunque la del modelo logístico es bastante buena de por si). Particularmente se puede destacar que con la red neuronal se comete un error menor al clasificar mensajes de tipo spam disminuyendo en 8% la probabilidad de clasificarlos incorrectamente según los datos de entrenamiento, tal y como se puede apreciar en las matrices de confusión porcentuales (normalizadas). \n",
        "Sin embargo, el modelo de redes neuronales aumenta levemente la probabilidad de categorizar un mensaje ham como spam (alrededor del 0.5% según los datos de validación)."
      ]
    },
    {
      "cell_type": "code",
      "metadata": {
        "id": "3k-XYaY5GXbZ",
        "colab_type": "code",
        "colab": {}
      },
      "source": [
        ""
      ],
      "execution_count": 0,
      "outputs": []
    }
  ]
}