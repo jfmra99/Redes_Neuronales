{
  "nbformat": 4,
  "nbformat_minor": 0,
  "metadata": {
    "colab": {
      "name": "Clase2_RepresentaciondeRedes.ipynb",
      "provenance": [],
      "collapsed_sections": [],
      "include_colab_link": true
    },
    "kernelspec": {
      "name": "python3",
      "display_name": "Python 3"
    }
  },
  "cells": [
    {
      "cell_type": "markdown",
      "metadata": {
        "id": "view-in-github",
        "colab_type": "text"
      },
      "source": [
        "<a href=\"https://colab.research.google.com/github/jfmra99/Redes_Neuronales/blob/master/Clase2_RepresentaciondeRedes.ipynb\" target=\"_parent\"><img src=\"https://colab.research.google.com/assets/colab-badge.svg\" alt=\"Open In Colab\"/></a>"
      ]
    },
    {
      "cell_type": "markdown",
      "metadata": {
        "id": "kwACj8L9ff-l",
        "colab_type": "text"
      },
      "source": [
        "# Redes neuronales de McCulloch-Pitts"
      ]
    },
    {
      "cell_type": "markdown",
      "metadata": {
        "id": "NCQLFBokmd_L",
        "colab_type": "text"
      },
      "source": [
        "El umbral es igual a la cantidad de conexiones exitatorias que tenga la neurona."
      ]
    },
    {
      "cell_type": "markdown",
      "metadata": {
        "id": "5foj7mG_mmUS",
        "colab_type": "text"
      },
      "source": [
        "## Representación matricial de la operación de una red de neuronas"
      ]
    },
    {
      "cell_type": "markdown",
      "metadata": {
        "id": "tDyDMYgJm382",
        "colab_type": "text"
      },
      "source": [
        "N es lo suficientemente grande (Por lo menos la cantidad de conexiones más uno).\n"
      ]
    },
    {
      "cell_type": "code",
      "metadata": {
        "id": "yHDOGJb5m-Zv",
        "colab_type": "code",
        "colab": {
          "base_uri": "https://localhost:8080/",
          "height": 54
        },
        "outputId": "e666fbf4-11e6-4e15-872b-4cd6ed4a7ee6"
      },
      "source": [
        "import numpy as np\n",
        "import pandas as pd\n",
        "import seaborn as sns\n",
        "import matplotlib as mpl\n",
        "import matplotlib.pyplot as plt\n",
        "%matplotlib inline\n",
        "%load_ext rpy2.ipython"
      ],
      "execution_count": 2,
      "outputs": [
        {
          "output_type": "stream",
          "text": [
            "The rpy2.ipython extension is already loaded. To reload it, use:\n",
            "  %reload_ext rpy2.ipython\n"
          ],
          "name": "stdout"
        }
      ]
    },
    {
      "cell_type": "code",
      "metadata": {
        "id": "AX_MrE2ZqH7U",
        "colab_type": "code",
        "colab": {
          "base_uri": "https://localhost:8080/",
          "height": 654
        },
        "outputId": "dad68cf8-23fb-4b55-dd0c-7c1a7e9a869a"
      },
      "source": [
        "%clear\n",
        "\n",
        "#For testing\n",
        "import numpy as np\n",
        "\n",
        "##\n",
        "## Define una clase que implementa el modelo.\n",
        "##\n",
        "class McCullochPits:\n",
        "\n",
        "    ##\n",
        "    ## Esta función crea la red neuronal\n",
        "    ##\n",
        "    def fit(self, x, y):\n",
        "        \"\"\"\n",
        "        - x: Es una lista de listas que representa la matriz\n",
        "             de entradas a la red neuronal.\n",
        "        - y: Es una lista de binarios que representan la\n",
        "             salida de la red neuronal.\n",
        "        \"\"\"\n",
        "        ## Calcula la cantidad de entradas + 1\n",
        "        n = len(x[0]) + 1 #### len(x[0] es el tamaño de la lista que corresponde a la primera tupla\n",
        "\n",
        "        ## Obtiene las filas de la matriz x para las\n",
        "        ## cuales la salida es unitaria\n",
        "        w = [w for w, z in zip(x, y) if z == 1] #Returns W.\n",
        "        \n",
        "        #### for w, z in zip(x, y) Mapea (pega matricialmente los valores W (x) con su respectivo z(y)). \n",
        "\n",
        "        ## Computa la cantidad de 1s en la entrada, que\n",
        "        ## corresponde al valor del umbral de cada\n",
        "        ## neurona\n",
        "        self.threshold = np.array([sum(row) for row in w])\n",
        "\n",
        "        ## Convierte los 0 en la matriz w a -n para\n",
        "        ## transformalos en conextiones inhibitorias\n",
        "        self.w = np.array([[element if element > 0 else -n for element in row] for row in w])\n",
        "        \n",
        "        \n",
        "        \n",
        "    def predict(self, x):\n",
        "      \n",
        "        \"\"\"\n",
        "        Pronostica la salida para una lista de entradas.\n",
        "\n",
        "        >>> x = [[0, 0, 0],\n",
        "        ...      [0, 0, 1],\n",
        "        ...      [0, 1, 0],\n",
        "        ...      [0, 1, 1],\n",
        "        ...      [1, 0, 0],\n",
        "        ...      [1, 0, 1],\n",
        "        ...      [1, 1, 0],\n",
        "        ...      [1, 1, 1]]\n",
        "        >>> y = [0,\n",
        "        ...      1,\n",
        "        ...      0,\n",
        "        ...      0,\n",
        "        ...      1,\n",
        "        ...      0,\n",
        "        ...      1,\n",
        "        ...      1]\n",
        "        >>> m = McCullochPits() # crea el modelo\n",
        "        >>> m.fit(x, y)         # construye la red neuronal\n",
        "        >>> for u in x:         #\n",
        "        ...    m.predict(u)     # pronostica la salida para cadaa patrón de x\n",
        "        0\n",
        "        1\n",
        "        0\n",
        "        0\n",
        "        1\n",
        "        0\n",
        "        1\n",
        "        1\n",
        "\n",
        "        \"\"\"\n",
        "        x = np.array(x)                               # convierte x en un array\n",
        "        u = x * self.w                                # calcula la entrada a cada neurona\n",
        "        u = np.sum(u, axis=1)                         #\n",
        "        u = u - self.threshold\n",
        "        f = np.vectorize(lambda x: 1 if x >= 0 else 0)\n",
        "        u = f(u)\n",
        "        u = np.max(u)\n",
        "        print()\n",
        "        return u\n",
        "    \n",
        "    \n",
        "if __name__ == \"__main__\":\n",
        "    #Realiza el testeo de forma automatica\n",
        "    import doctest\n",
        "    doctest.testmod()"
      ],
      "execution_count": 13,
      "outputs": [
        {
          "output_type": "stream",
          "text": [
            "\u001b[H\u001b[2J**********************************************************************\n",
            "File \"__main__\", line 63, in __main__.McCullochPits.predict\n",
            "Failed example:\n",
            "    for u in x:         #\n",
            "       m.predict(u)     # pronostica la salida para cadaa patrón de x\n",
            "Expected:\n",
            "    0\n",
            "    1\n",
            "    0\n",
            "    0\n",
            "    1\n",
            "    0\n",
            "    1\n",
            "    1\n",
            "Got:\n",
            "    <BLANKLINE>\n",
            "    0\n",
            "    <BLANKLINE>\n",
            "    1\n",
            "    <BLANKLINE>\n",
            "    0\n",
            "    <BLANKLINE>\n",
            "    0\n",
            "    <BLANKLINE>\n",
            "    1\n",
            "    <BLANKLINE>\n",
            "    0\n",
            "    <BLANKLINE>\n",
            "    1\n",
            "    <BLANKLINE>\n",
            "    1\n",
            "**********************************************************************\n",
            "1 items had failures:\n",
            "   1 of   5 in __main__.McCullochPits.predict\n",
            "***Test Failed*** 1 failures.\n"
          ],
          "name": "stdout"
        }
      ]
    },
    {
      "cell_type": "code",
      "metadata": {
        "id": "LEvl_N6tyCK5",
        "colab_type": "code",
        "colab": {
          "base_uri": "https://localhost:8080/",
          "height": 163
        },
        "outputId": "5ee3d4b0-b476-42ce-ed31-a0cbb32e1e65"
      },
      "source": [
        "x = [[0, 0, 0],\n",
        "     [0, 0, 1],\n",
        "     [0, 1, 0],\n",
        "     [0, 1, 1],\n",
        "     [1, 0, 0],\n",
        "     [1, 0, 1],\n",
        "     [1, 1, 0],\n",
        "     [1, 1, 1]]\n",
        "\n",
        "y = [0,\n",
        "     1,\n",
        "     0,\n",
        "     0,\n",
        "     1,\n",
        "     0,\n",
        "     1,\n",
        "     1]\n",
        "\n",
        "m = McCullochPits()\n",
        "m.fit(x, y)         # construye la red neuronal\n",
        "for u in x:         #\n",
        "  print(m.predict(u))\n",
        "  m.predict(u)     # pronostica la salida para cadaa patrón de x"
      ],
      "execution_count": 11,
      "outputs": [
        {
          "output_type": "stream",
          "text": [
            "0\n",
            "1\n",
            "0\n",
            "0\n",
            "1\n",
            "0\n",
            "1\n",
            "1\n"
          ],
          "name": "stdout"
        }
      ]
    },
    {
      "cell_type": "markdown",
      "metadata": {
        "id": "PYvbSMY2ytjw",
        "colab_type": "text"
      },
      "source": [
        "# Ejemplo cool"
      ]
    },
    {
      "cell_type": "code",
      "metadata": {
        "id": "zpkMPa_iyvMM",
        "colab_type": "code",
        "colab": {
          "base_uri": "https://localhost:8080/",
          "height": 72
        },
        "outputId": "c3709c11-0c41-4359-b475-4cdb85c94350"
      },
      "source": [
        "x = [[1,2], [3,4], [5,6]]\n",
        "y = [1,4,3]\n",
        "\n",
        "for e in zip(x,y):\n",
        "  print(e)"
      ],
      "execution_count": 4,
      "outputs": [
        {
          "output_type": "stream",
          "text": [
            "([1, 2], 1)\n",
            "([3, 4], 4)\n",
            "([5, 6], 3)\n"
          ],
          "name": "stdout"
        }
      ]
    },
    {
      "cell_type": "code",
      "metadata": {
        "id": "QJSaT9nOy6ec",
        "colab_type": "code",
        "colab": {}
      },
      "source": [
        "# _ llama la ultima variable "
      ],
      "execution_count": 0,
      "outputs": []
    },
    {
      "cell_type": "markdown",
      "metadata": {
        "id": "np8QmLrV1hbH",
        "colab_type": "text"
      },
      "source": [
        "# Implementación en tensor"
      ]
    },
    {
      "cell_type": "code",
      "metadata": {
        "id": "Id_VohO51jbi",
        "colab_type": "code",
        "colab": {}
      },
      "source": [
        ""
      ],
      "execution_count": 0,
      "outputs": []
    }
  ]
}